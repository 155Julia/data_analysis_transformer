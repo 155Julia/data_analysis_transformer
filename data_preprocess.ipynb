{
 "cells": [
  {
   "cell_type": "markdown",
   "id": "189b02dd",
   "metadata": {},
   "source": [
    "將每個Tool最後一次RUL=0之後的資料都刪掉"
   ]
  },
  {
   "cell_type": "code",
   "execution_count": 1,
   "id": "4a1c1b1e",
   "metadata": {},
   "outputs": [
    {
     "name": "stdout",
     "output_type": "stream",
     "text": [
      "原始資料筆數: 356\n"
     ]
    },
    {
     "data": {
      "text/html": [
       "<div>\n",
       "<style scoped>\n",
       "    .dataframe tbody tr th:only-of-type {\n",
       "        vertical-align: middle;\n",
       "    }\n",
       "\n",
       "    .dataframe tbody tr th {\n",
       "        vertical-align: top;\n",
       "    }\n",
       "\n",
       "    .dataframe thead th {\n",
       "        text-align: right;\n",
       "    }\n",
       "</style>\n",
       "<table border=\"1\" class=\"dataframe\">\n",
       "  <thead>\n",
       "    <tr style=\"text-align: right;\">\n",
       "      <th></th>\n",
       "      <th>DateTime</th>\n",
       "      <th>Tool</th>\n",
       "      <th>FPD</th>\n",
       "      <th>Temperature</th>\n",
       "      <th>RUL</th>\n",
       "    </tr>\n",
       "  </thead>\n",
       "  <tbody>\n",
       "    <tr>\n",
       "      <th>0</th>\n",
       "      <td>2022-01-01</td>\n",
       "      <td>A</td>\n",
       "      <td>0.62</td>\n",
       "      <td>23.11</td>\n",
       "      <td>0.0</td>\n",
       "    </tr>\n",
       "    <tr>\n",
       "      <th>1</th>\n",
       "      <td>2022-01-08</td>\n",
       "      <td>A</td>\n",
       "      <td>0.87</td>\n",
       "      <td>23.47</td>\n",
       "      <td>0.0</td>\n",
       "    </tr>\n",
       "    <tr>\n",
       "      <th>2</th>\n",
       "      <td>2022-02-05</td>\n",
       "      <td>A</td>\n",
       "      <td>0.34</td>\n",
       "      <td>22.19</td>\n",
       "      <td>77.0</td>\n",
       "    </tr>\n",
       "    <tr>\n",
       "      <th>3</th>\n",
       "      <td>2022-02-26</td>\n",
       "      <td>A</td>\n",
       "      <td>0.48</td>\n",
       "      <td>22.69</td>\n",
       "      <td>73.0</td>\n",
       "    </tr>\n",
       "    <tr>\n",
       "      <th>4</th>\n",
       "      <td>2022-03-16</td>\n",
       "      <td>A</td>\n",
       "      <td>0.62</td>\n",
       "      <td>23.76</td>\n",
       "      <td>0.0</td>\n",
       "    </tr>\n",
       "  </tbody>\n",
       "</table>\n",
       "</div>"
      ],
      "text/plain": [
       "    DateTime Tool   FPD  Temperature   RUL\n",
       "0 2022-01-01    A  0.62        23.11   0.0\n",
       "1 2022-01-08    A  0.87        23.47   0.0\n",
       "2 2022-02-05    A  0.34        22.19  77.0\n",
       "3 2022-02-26    A  0.48        22.69  73.0\n",
       "4 2022-03-16    A  0.62        23.76   0.0"
      ]
     },
     "execution_count": 1,
     "metadata": {},
     "output_type": "execute_result"
    }
   ],
   "source": [
    "# Step 1: 匯入套件\n",
    "import pandas as pd\n",
    "\n",
    "# Step 2: 讀取 CSV\n",
    "df = pd.read_csv(\"./csv/dataset.csv\", parse_dates=[\"DateTime\"])\n",
    "\n",
    "print(\"原始資料筆數:\", len(df))\n",
    "df.head()\n"
   ]
  },
  {
   "cell_type": "code",
   "execution_count": 2,
   "id": "2a544681",
   "metadata": {},
   "outputs": [],
   "source": [
    "# Step 3: 定義函數\n",
    "def remove_after_last_failure(data: pd.DataFrame) -> pd.DataFrame:\n",
    "    \"\"\"\n",
    "    移除每個 Tool 中，最後一次 RUL=0 之後的所有資料\n",
    "    \"\"\"\n",
    "    cleaned_list = []\n",
    "    \n",
    "    for tool, group in data.groupby(\"Tool\"):\n",
    "        # 找出最後一次 RUL=0 的位置\n",
    "        last_failure_idx = group[group[\"RUL\"] == 0].index.max()\n",
    "        \n",
    "        if pd.isna(last_failure_idx):\n",
    "            # 如果這個 Tool 完全沒有 RUL=0，就保留全部\n",
    "            cleaned_group = group\n",
    "        else:\n",
    "            # 只保留最後一次失效 (RUL=0) 之前與當下的資料\n",
    "            cleaned_group = group.loc[:last_failure_idx]\n",
    "        \n",
    "        cleaned_list.append(cleaned_group)\n",
    "    \n",
    "    # 合併\n",
    "    cleaned_df = pd.concat(cleaned_list, ignore_index=True)\n",
    "    return cleaned_df\n"
   ]
  },
  {
   "cell_type": "code",
   "execution_count": 6,
   "id": "f697e677",
   "metadata": {},
   "outputs": [
    {
     "name": "stdout",
     "output_type": "stream",
     "text": [
      "清理後資料筆數: 353\n"
     ]
    }
   ],
   "source": [
    "# Step 4: 使用函數\n",
    "df_cleaned = remove_after_last_failure(df)\n",
    "\n",
    "print(\"清理後資料筆數:\", len(df_cleaned))\n",
    "df_cleaned.groupby(\"Tool\")[\"RUL\"].min()\n",
    "\n",
    "# Step 5: (選擇性) 存回新的 CSV\n",
    "df_cleaned.to_csv(\"./csv/dataset.csv\", index=False)\n"
   ]
  },
  {
   "cell_type": "markdown",
   "id": "ee8c492d",
   "metadata": {},
   "source": [
    "利用時間序列插值 (time)進行差值"
   ]
  },
  {
   "cell_type": "code",
   "execution_count": 20,
   "id": "be5fa75c",
   "metadata": {},
   "outputs": [],
   "source": [
    "# Cell 1: 匯入與設定（不輸出）\n",
    "import pandas as pd\n",
    "import numpy as np\n",
    "\n",
    "# I/O\n",
    "SRC_CSV = \"./csv/dataset.csv\"  # 原始資料\n",
    "OUT_CSV = \"./csv/interpolated_dataset.csv\"  # 輸出檔名\n",
    "\n",
    "# 欄位與頻率\n",
    "INTERP_COLS = [\"FPD\", \"Temperature\"]   # 要插值的連續型欄位\n",
    "RESAMPLE_FREQ = \"D\"                     # 轉成每日\n",
    "\n",
    "# 以插值後的 FPD 判定失效的門檻\n",
    "FPD_FAILURE_THRESHOLD = 0.6"
   ]
  },
  {
   "cell_type": "code",
   "execution_count": null,
   "id": "8e8a87fd",
   "metadata": {},
   "outputs": [
    {
     "name": "stdout",
     "output_type": "stream",
     "text": [
      "      DateTime Tool   FPD  Temperature   RUL        Date\n",
      "0   2022-01-01    A  0.62        23.11   0.0  2022-01-01\n",
      "1   2022-01-08    A  0.87        23.47   0.0  2022-01-08\n",
      "2   2022-02-05    A  0.34        22.19  77.0  2022-02-05\n",
      "3   2022-02-26    A  0.48        22.69  73.0  2022-02-26\n",
      "4   2022-03-16    A  0.62        23.76   0.0  2022-03-16\n",
      "..         ...  ...   ...          ...   ...         ...\n",
      "348 2024-10-25    E  0.38        23.40  79.0  2024-10-25\n",
      "349 2024-11-22    E  0.45        23.12  49.0  2024-11-22\n",
      "350 2024-12-02    E  0.89        22.71   0.0  2024-12-02\n",
      "351 2024-12-17    E  0.71        23.44   0.0  2024-12-17\n",
      "352 2024-12-28    E  0.85        23.68   0.0  2024-12-28\n",
      "\n",
      "[353 rows x 6 columns]\n"
     ]
    }
   ],
   "source": [
    "# Cell 2: 讀檔與新增 Date 欄位（不輸出）\n",
    "df = pd.read_csv(SRC_CSV, parse_dates=[\"DateTime\"])\n",
    "df.sort_values([\"Tool\", \"DateTime\"], inplace=True, ignore_index=True)\n",
    "\n",
    "# 新增只含日期的欄位（物件型別為 datetime.date）\n",
    "df[\"Date\"] = pd.to_datetime(df[\"DateTime\"]).dt.date\n",
    "\n",
    "# 檢查結果\n",
    "print(df)"
   ]
  },
  {
   "cell_type": "code",
   "execution_count": 21,
   "id": "3dbe9694",
   "metadata": {},
   "outputs": [],
   "source": [
    "# Cell 3: 單一 Tool -> 每日 resample + 時間插值（不輸出）\n",
    "def resample_and_interpolate_single_tool(group: pd.DataFrame,\n",
    "                                         interp_cols=INTERP_COLS,\n",
    "                                         resample_freq=RESAMPLE_FREQ) -> pd.DataFrame:\n",
    "    \"\"\"\n",
    "    對單一 Tool：\n",
    "      1) 依 resample_freq 建立等間距時間格點\n",
    "      2) 對指定欄位進行 method='time' 的插值\n",
    "      3) 保留 Tool 與原始 RUL（作為參考；最終 RUL 會重算）\n",
    "    回傳 index=DateTime 的 DataFrame\n",
    "    \"\"\"\n",
    "    g = group.set_index(\"DateTime\").sort_index()\n",
    "\n",
    "    # 產生每日格點\n",
    "    g_daily = g.asfreq(resample_freq)\n",
    "\n",
    "    # 保留 Tool 標籤\n",
    "    g_daily[\"Tool\"] = g[\"Tool\"].iloc[0]\n",
    "\n",
    "    # 保留原始 RUL 供參考（非原始日期為 NaN）\n",
    "    g_daily[\"RUL_orig\"] = g[\"RUL\"]\n",
    "\n",
    "    # 對連續欄位做時間型插值\n",
    "    for col in interp_cols:\n",
    "        if col in g_daily.columns:\n",
    "            g_daily[col] = g_daily[col].interpolate(method=\"time\")\n",
    "\n",
    "    return g_daily\n"
   ]
  },
  {
   "cell_type": "code",
   "execution_count": 22,
   "id": "748be972",
   "metadata": {},
   "outputs": [],
   "source": [
    "# Cell 4: 依「插值後的 FPD 門檻」重新計算 RUL（不輸出）\n",
    "def recompute_rul_from_interpolated_fpd(group_daily: pd.DataFrame,\n",
    "                                        fpd_threshold: float = FPD_FAILURE_THRESHOLD) -> pd.DataFrame:\n",
    "    \"\"\"\n",
    "    對單一 Tool 的每日資料，使用「插值後的 FPD > threshold」作為失效條件：\n",
    "      - 當日 FPD > 門檻 -> RUL = 0\n",
    "      - 往「過去」每天 +1，直到遇到下一個失效日再重置\n",
    "    注意：插值後的 FPD 可能在原本沒有失效的日期也超過門檻，故 RUL=0 的天數可能變多。\n",
    "    \"\"\"\n",
    "    g = group_daily.sort_index().copy()\n",
    "\n",
    "    # 以插值後的 FPD 判定失效錨點\n",
    "    failure_anchor = (g[\"FPD\"] > fpd_threshold).fillna(False).to_numpy()\n",
    "\n",
    "    # 由末日往前遞增計數\n",
    "    rul = np.zeros(len(g), dtype=int)\n",
    "    counter = 0\n",
    "    for i in range(len(g) - 1, -1, -1):\n",
    "        if failure_anchor[i]:\n",
    "            counter = 0\n",
    "            rul[i] = 0\n",
    "        else:\n",
    "            counter += 1\n",
    "            rul[i] = counter\n",
    "\n",
    "    g[\"RUL\"] = rul\n",
    "    return g\n"
   ]
  },
  {
   "cell_type": "code",
   "execution_count": 24,
   "id": "2662140b",
   "metadata": {},
   "outputs": [
    {
     "name": "stderr",
     "output_type": "stream",
     "text": [
      "/var/folders/2d/q366jpls0tn7mdr8lg1zq2k40000gn/T/ipykernel_65788/3315875139.py:5: FutureWarning: DataFrameGroupBy.apply operated on the grouping columns. This behavior is deprecated, and in a future version of pandas the grouping columns will be excluded from the operation. Either pass `include_groups=False` to exclude the groupings or explicitly select the grouping columns after groupby to silence this warning.\n",
      "  .apply(lambda g: resample_and_interpolate_single_tool(g))\n",
      "/var/folders/2d/q366jpls0tn7mdr8lg1zq2k40000gn/T/ipykernel_65788/3315875139.py:11: FutureWarning: DataFrameGroupBy.apply operated on the grouping columns. This behavior is deprecated, and in a future version of pandas the grouping columns will be excluded from the operation. Either pass `include_groups=False` to exclude the groupings or explicitly select the grouping columns after groupby to silence this warning.\n",
      "  .apply(lambda g: recompute_rul_from_interpolated_fpd(g, FPD_FAILURE_THRESHOLD))\n"
     ]
    }
   ],
   "source": [
    "# Cell 5: 全流程：resample+interpolate → 依插值後 FPD 重算 RUL → 產出（不輸出）\n",
    "# 1) 對每個 Tool 先做每日化與插值\n",
    "daily = (\n",
    "    df.groupby(\"Tool\", group_keys=False)\n",
    "      .apply(lambda g: resample_and_interpolate_single_tool(g))\n",
    ")\n",
    "\n",
    "# 2) 依插值後 FPD 門檻重新計算 RUL（RUL=0 可能變多）\n",
    "daily = (\n",
    "    daily.groupby(\"Tool\", group_keys=False)\n",
    "         .apply(lambda g: recompute_rul_from_interpolated_fpd(g, FPD_FAILURE_THRESHOLD))\n",
    ")\n",
    "\n",
    "# 3) 產生 Date 欄位（純日期）並整理欄位順序\n",
    "daily = daily.reset_index()  # 還原 DateTime\n",
    "daily[\"Date\"] = pd.to_datetime(daily[\"DateTime\"]).dt.date\n",
    "\n",
    "# 若不想保留 RUL_orig，可取消註解下一行：\n",
    "# daily = daily.drop(columns=[\"RUL_orig\"])\n",
    "\n",
    "# 最終欄位（可依需求調整順序）\n",
    "cols = [\"DateTime\", \"Date\", \"Tool\"] + INTERP_COLS + [\"RUL\"]\n",
    "daily = daily[[c for c in cols if c in daily.columns]]\n",
    "\n",
    "# 4) 輸出 CSV\n",
    "daily.to_csv(OUT_CSV, index=False)\n"
   ]
  },
  {
   "cell_type": "code",
   "execution_count": null,
   "id": "f624ddf0",
   "metadata": {},
   "outputs": [
    {
     "name": "stdout",
     "output_type": "stream",
     "text": [
      "       DateTime Tool       FPD  Temperature  RUL  RUL_orig\n",
      "0    2022-01-01    A  0.620000    23.110000    0       0.0\n",
      "1    2022-01-02    A  0.655714    23.161429    6       NaN\n",
      "2    2022-01-03    A  0.691429    23.212857    5       NaN\n",
      "3    2022-01-04    A  0.727143    23.264286    4       NaN\n",
      "4    2022-01-05    A  0.762857    23.315714    3       NaN\n",
      "...         ...  ...       ...          ...  ...       ...\n",
      "5423 2024-12-24    E  0.799091    23.592727    4       NaN\n",
      "5424 2024-12-25    E  0.811818    23.614545    3       NaN\n",
      "5425 2024-12-26    E  0.824545    23.636364    2       NaN\n",
      "5426 2024-12-27    E  0.837273    23.658182    1       NaN\n",
      "5427 2024-12-28    E  0.850000    23.680000    0       0.0\n",
      "\n",
      "[5428 rows x 6 columns]\n"
     ]
    }
   ],
   "source": [
    "# Cell 6: （可選）若要加入遲滯/緩衝（避免插值造成邊界抖動），可用下列範例函式替換判定（不輸出）\n",
    "def failure_mask_with_hysteresis(fpd_series: pd.Series,\n",
    "                                 on_threshold: float = 0.6,\n",
    "                                 off_threshold: float = 0.58) -> np.ndarray:\n",
    "    \"\"\"\n",
    "    範例：加入簡單遲滯（hysteresis），減少 FPD 僅略高/略低門檻時造成的頻繁切換。\n",
    "    - 當前狀態為「失效」後，需低於 off_threshold 才解除；反之高於 on_threshold 才觸發。\n",
    "    回傳布林陣列表示失效日。\n",
    "    \"\"\"\n",
    "    fpd = fpd_series.to_numpy()\n",
    "    fail = np.zeros_like(fpd, dtype=bool)\n",
    "    state = False\n",
    "    for i, x in enumerate(fpd):\n",
    "        if not state:\n",
    "            # 正常 -> 只有超過 on_threshold 才進入失效\n",
    "            if x is not None and pd.notna(x) and x > on_threshold:\n",
    "                state = True\n",
    "        else:\n",
    "            # 失效中 -> 只有低於 off_threshold 才解除\n",
    "            if x is not None and pd.notna(x) and x < off_threshold:\n",
    "                state = False\n",
    "        fail[i] = state\n",
    "    return fail\n",
    "\n",
    "# 使用示例（把 Cell 4 的 failure_anchor 改為下列兩行）：\n",
    "# failure_anchor = failure_mask_with_hysteresis(g[\"FPD\"], on_threshold=0.6, off_threshold=0.58)\n",
    "# （其餘流程不變）\n"
   ]
  },
  {
   "cell_type": "code",
   "execution_count": null,
   "id": "fed932c9",
   "metadata": {},
   "outputs": [],
   "source": []
  }
 ],
 "metadata": {
  "kernelspec": {
   "display_name": "intern",
   "language": "python",
   "name": "python3"
  },
  "language_info": {
   "codemirror_mode": {
    "name": "ipython",
    "version": 3
   },
   "file_extension": ".py",
   "mimetype": "text/x-python",
   "name": "python",
   "nbconvert_exporter": "python",
   "pygments_lexer": "ipython3",
   "version": "3.10.18"
  }
 },
 "nbformat": 4,
 "nbformat_minor": 5
}
