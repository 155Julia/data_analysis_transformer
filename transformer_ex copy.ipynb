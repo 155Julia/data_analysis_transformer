{
 "cells": [
  {
   "cell_type": "code",
   "execution_count": 59,
   "id": "2dd9fc1f",
   "metadata": {},
   "outputs": [
    {
     "name": "stderr",
     "output_type": "stream",
     "text": [
      "/var/folders/2d/q366jpls0tn7mdr8lg1zq2k40000gn/T/ipykernel_59403/3720394651.py:6: FutureWarning: YF.download() has changed argument auto_adjust default to True\n",
      "  data = yf.download('AAPL', start='2015-01-01', end='2021-01-01')\n",
      "[*********************100%***********************]  1 of 1 completed\n"
     ]
    }
   ],
   "source": [
    "import pandas as pd\n",
    "import numpy as np\n",
    "import yfinance as yf\n",
    "\n",
    "# 獲取數據\n",
    "data = yf.download('AAPL', start='2015-01-01', end='2021-01-01')\n",
    "\n",
    "# 提取收盤價\n",
    "filtered_data = data[['Close','High','Low','Volume']]"
   ]
  },
  {
   "cell_type": "code",
   "execution_count": 60,
   "id": "96c391c5",
   "metadata": {},
   "outputs": [
    {
     "data": {
      "text/html": [
       "<div>\n",
       "<style scoped>\n",
       "    .dataframe tbody tr th:only-of-type {\n",
       "        vertical-align: middle;\n",
       "    }\n",
       "\n",
       "    .dataframe tbody tr th {\n",
       "        vertical-align: top;\n",
       "    }\n",
       "\n",
       "    .dataframe thead tr th {\n",
       "        text-align: left;\n",
       "    }\n",
       "\n",
       "    .dataframe thead tr:last-of-type th {\n",
       "        text-align: right;\n",
       "    }\n",
       "</style>\n",
       "<table border=\"1\" class=\"dataframe\">\n",
       "  <thead>\n",
       "    <tr>\n",
       "      <th>Price</th>\n",
       "      <th>Close</th>\n",
       "      <th>High</th>\n",
       "      <th>Low</th>\n",
       "      <th>Open</th>\n",
       "      <th>Volume</th>\n",
       "    </tr>\n",
       "    <tr>\n",
       "      <th>Ticker</th>\n",
       "      <th>AAPL</th>\n",
       "      <th>AAPL</th>\n",
       "      <th>AAPL</th>\n",
       "      <th>AAPL</th>\n",
       "      <th>AAPL</th>\n",
       "    </tr>\n",
       "    <tr>\n",
       "      <th>Date</th>\n",
       "      <th></th>\n",
       "      <th></th>\n",
       "      <th></th>\n",
       "      <th></th>\n",
       "      <th></th>\n",
       "    </tr>\n",
       "  </thead>\n",
       "  <tbody>\n",
       "    <tr>\n",
       "      <th>2015-01-02</th>\n",
       "      <td>24.261044</td>\n",
       "      <td>24.729267</td>\n",
       "      <td>23.821668</td>\n",
       "      <td>24.718171</td>\n",
       "      <td>212818400</td>\n",
       "    </tr>\n",
       "    <tr>\n",
       "      <th>2015-01-05</th>\n",
       "      <td>23.577578</td>\n",
       "      <td>24.110154</td>\n",
       "      <td>23.391177</td>\n",
       "      <td>24.030267</td>\n",
       "      <td>257142000</td>\n",
       "    </tr>\n",
       "    <tr>\n",
       "      <th>2015-01-06</th>\n",
       "      <td>23.579792</td>\n",
       "      <td>23.839422</td>\n",
       "      <td>23.218083</td>\n",
       "      <td>23.641926</td>\n",
       "      <td>263188400</td>\n",
       "    </tr>\n",
       "    <tr>\n",
       "      <th>2015-01-07</th>\n",
       "      <td>23.910429</td>\n",
       "      <td>24.010286</td>\n",
       "      <td>23.677426</td>\n",
       "      <td>23.788380</td>\n",
       "      <td>160423600</td>\n",
       "    </tr>\n",
       "    <tr>\n",
       "      <th>2015-01-08</th>\n",
       "      <td>24.829126</td>\n",
       "      <td>24.886823</td>\n",
       "      <td>24.121244</td>\n",
       "      <td>24.238856</td>\n",
       "      <td>237458000</td>\n",
       "    </tr>\n",
       "    <tr>\n",
       "      <th>...</th>\n",
       "      <td>...</td>\n",
       "      <td>...</td>\n",
       "      <td>...</td>\n",
       "      <td>...</td>\n",
       "      <td>...</td>\n",
       "    </tr>\n",
       "    <tr>\n",
       "      <th>2020-12-24</th>\n",
       "      <td>128.591019</td>\n",
       "      <td>130.042874</td>\n",
       "      <td>127.743299</td>\n",
       "      <td>127.957667</td>\n",
       "      <td>54930100</td>\n",
       "    </tr>\n",
       "    <tr>\n",
       "      <th>2020-12-28</th>\n",
       "      <td>133.190186</td>\n",
       "      <td>133.823537</td>\n",
       "      <td>130.091599</td>\n",
       "      <td>130.559319</td>\n",
       "      <td>124486200</td>\n",
       "    </tr>\n",
       "    <tr>\n",
       "      <th>2020-12-29</th>\n",
       "      <td>131.416794</td>\n",
       "      <td>135.236425</td>\n",
       "      <td>130.900365</td>\n",
       "      <td>134.515381</td>\n",
       "      <td>121047300</td>\n",
       "    </tr>\n",
       "    <tr>\n",
       "      <th>2020-12-30</th>\n",
       "      <td>130.296219</td>\n",
       "      <td>132.508102</td>\n",
       "      <td>129.984405</td>\n",
       "      <td>132.108596</td>\n",
       "      <td>96452100</td>\n",
       "    </tr>\n",
       "    <tr>\n",
       "      <th>2020-12-31</th>\n",
       "      <td>129.292587</td>\n",
       "      <td>131.290102</td>\n",
       "      <td>128.347422</td>\n",
       "      <td>130.646997</td>\n",
       "      <td>99116600</td>\n",
       "    </tr>\n",
       "  </tbody>\n",
       "</table>\n",
       "<p>1511 rows × 5 columns</p>\n",
       "</div>"
      ],
      "text/plain": [
       "Price            Close        High         Low        Open     Volume\n",
       "Ticker            AAPL        AAPL        AAPL        AAPL       AAPL\n",
       "Date                                                                 \n",
       "2015-01-02   24.261044   24.729267   23.821668   24.718171  212818400\n",
       "2015-01-05   23.577578   24.110154   23.391177   24.030267  257142000\n",
       "2015-01-06   23.579792   23.839422   23.218083   23.641926  263188400\n",
       "2015-01-07   23.910429   24.010286   23.677426   23.788380  160423600\n",
       "2015-01-08   24.829126   24.886823   24.121244   24.238856  237458000\n",
       "...                ...         ...         ...         ...        ...\n",
       "2020-12-24  128.591019  130.042874  127.743299  127.957667   54930100\n",
       "2020-12-28  133.190186  133.823537  130.091599  130.559319  124486200\n",
       "2020-12-29  131.416794  135.236425  130.900365  134.515381  121047300\n",
       "2020-12-30  130.296219  132.508102  129.984405  132.108596   96452100\n",
       "2020-12-31  129.292587  131.290102  128.347422  130.646997   99116600\n",
       "\n",
       "[1511 rows x 5 columns]"
      ]
     },
     "execution_count": 60,
     "metadata": {},
     "output_type": "execute_result"
    }
   ],
   "source": [
    "data"
   ]
  },
  {
   "cell_type": "code",
   "execution_count": 61,
   "id": "59c6fdea",
   "metadata": {},
   "outputs": [
    {
     "name": "stderr",
     "output_type": "stream",
     "text": [
      "/var/folders/2d/q366jpls0tn7mdr8lg1zq2k40000gn/T/ipykernel_59403/2159125135.py:4: SettingWithCopyWarning: \n",
      "A value is trying to be set on a copy of a slice from a DataFrame.\n",
      "Try using .loc[row_indexer,col_indexer] = value instead\n",
      "\n",
      "See the caveats in the documentation: https://pandas.pydata.org/pandas-docs/stable/user_guide/indexing.html#returning-a-view-versus-a-copy\n",
      "  filtered_data['Close'] = scaler.fit_transform(data[['Close']])\n"
     ]
    }
   ],
   "source": [
    "from sklearn.preprocessing import MinMaxScaler\n",
    "\n",
    "scaler = MinMaxScaler(feature_range=(0, 1))\n",
    "filtered_data['Close'] = scaler.fit_transform(data[['Close']])"
   ]
  },
  {
   "cell_type": "code",
   "execution_count": 62,
   "id": "522537c7",
   "metadata": {},
   "outputs": [],
   "source": [
    "def create_sequences(dataset, lookback=60):\n",
    "    X, y = [], []\n",
    "    for i in range(len(dataset) - lookback):\n",
    "        X.append(dataset[i:(i + lookback), 0])\n",
    "        y.append(dataset[i + lookback, 0])\n",
    "    return np.array(X), np.array(y)\n",
    "\n",
    "# 轉換為 numpy 陣列\n",
    "dataset = data.values\n",
    "\n",
    "# 定義 lookback 窗口大小\n",
    "lookback = 60\n",
    "\n",
    "X, y = create_sequences(dataset, lookback)"
   ]
  },
  {
   "cell_type": "code",
   "execution_count": 63,
   "id": "ec761e8b",
   "metadata": {},
   "outputs": [],
   "source": [
    "# 劃分比例\n",
    "train_size = int(len(X) * 0.8)\n",
    "test_size = len(X) - train_size\n",
    "\n",
    "X_train = X[:train_size]\n",
    "y_train = y[:train_size]\n",
    "X_test = X[train_size:]\n",
    "y_test = y[train_size:]"
   ]
  },
  {
   "cell_type": "code",
   "execution_count": 64,
   "id": "01b1eacf",
   "metadata": {},
   "outputs": [],
   "source": [
    "# 將數據轉換為 PyTorch 張量\n",
    "import torch\n",
    "\n",
    "X_train_tensor = torch.from_numpy(X_train).float()\n",
    "y_train_tensor = torch.from_numpy(y_train).float()\n",
    "X_test_tensor = torch.from_numpy(X_test).float()\n",
    "y_test_tensor = torch.from_numpy(y_test).float()\n",
    "\n",
    "# 調整輸入形狀為 (seq_length, batch_size, feature_size)\n",
    "X_train_tensor = X_train_tensor.unsqueeze(-1).permute(1, 0, 2)\n",
    "X_test_tensor = X_test_tensor.unsqueeze(-1).permute(1, 0, 2)"
   ]
  },
  {
   "cell_type": "code",
   "execution_count": 65,
   "id": "2b32882d",
   "metadata": {},
   "outputs": [
    {
     "name": "stdout",
     "output_type": "stream",
     "text": [
      "使用設備：cpu\n"
     ]
    }
   ],
   "source": [
    "import torch.nn as nn\n",
    "\n",
    "device = torch.device('cuda' if torch.cuda.is_available() else 'cpu')\n",
    "print(f'使用設備：{device}')"
   ]
  },
  {
   "cell_type": "code",
   "execution_count": 66,
   "id": "5b58dfeb",
   "metadata": {},
   "outputs": [],
   "source": [
    "import math\n",
    "\n",
    "class PositionalEncoding(nn.Module):\n",
    "    def __init__(self, d_model, max_len=5000):\n",
    "        super(PositionalEncoding, self).__init__()\n",
    "        # 建立一個位置編碼矩陣\n",
    "        pe = torch.zeros(max_len, d_model)\n",
    "        position = torch.arange(0, max_len).unsqueeze(1).float()\n",
    "        div_term = torch.exp(torch.arange(0, d_model, 2).float() * (-math.log(10000.0) / d_model))\n",
    "        pe[:, 0::2] = torch.sin(position * div_term)  # 偶數位置\n",
    "        pe[:, 1::2] = torch.cos(position * div_term)  # 奇數位置\n",
    "        pe = pe.unsqueeze(1)\n",
    "        self.register_buffer('pe', pe)\n",
    "\n",
    "    def forward(self, x):\n",
    "        # x 的形狀為 (seq_length, batch_size, d_model)\n",
    "        x = x + self.pe[:x.size(0)]\n",
    "        return x"
   ]
  },
  {
   "cell_type": "code",
   "execution_count": 67,
   "id": "a475cf38",
   "metadata": {},
   "outputs": [],
   "source": [
    "class TransformerTimeSeries(nn.Module):\n",
    "    def __init__(self, feature_size=1, num_layers=2, nhead=4, hidden_dim=128, dropout=0.1):\n",
    "        super(TransformerTimeSeries, self).__init__()\n",
    "        self.model_type = 'Transformer'\n",
    "        self.input_linear = nn.Linear(feature_size, hidden_dim)  # 新增的線性層\n",
    "        self.pos_encoder = PositionalEncoding(d_model=hidden_dim)\n",
    "        encoder_layers = nn.TransformerEncoderLayer(d_model=hidden_dim, nhead=nhead, dim_feedforward=hidden_dim, dropout=dropout)\n",
    "        self.transformer_encoder = nn.TransformerEncoder(encoder_layers, num_layers=num_layers)\n",
    "        self.decoder = nn.Linear(hidden_dim, 1)\n",
    "        self.hidden_dim = hidden_dim\n",
    "\n",
    "    def forward(self, src):\n",
    "        # src 形狀: (seq_length, batch_size, feature_size)\n",
    "        src = self.input_linear(src)  # 將輸入映射到 hidden_dim 維度\n",
    "        src = self.pos_encoder(src)\n",
    "        output = self.transformer_encoder(src)\n",
    "        # 取最後一個時間步的輸出\n",
    "        output = self.decoder(output[-1, :, :])\n",
    "        return output"
   ]
  },
  {
   "cell_type": "code",
   "execution_count": 68,
   "id": "dd58b8e7",
   "metadata": {},
   "outputs": [
    {
     "name": "stderr",
     "output_type": "stream",
     "text": [
      "/Users/hongjiayu/miniconda3/envs/intern/lib/python3.10/site-packages/torch/nn/modules/transformer.py:392: UserWarning: enable_nested_tensor is True, but self.use_nested_tensor is False because encoder_layer.self_attn.batch_first was not True(use batch_first for better inference performance)\n",
      "  warnings.warn(\n"
     ]
    }
   ],
   "source": [
    "feature_size = 1  # 輸入特徵數\n",
    "num_layers = 2\n",
    "nhead = 4\n",
    "hidden_dim = 128\n",
    "\n",
    "model = TransformerTimeSeries(feature_size=feature_size, num_layers=num_layers, nhead=nhead, hidden_dim=hidden_dim).to(device)"
   ]
  },
  {
   "cell_type": "code",
   "execution_count": 69,
   "id": "cc898b46",
   "metadata": {},
   "outputs": [],
   "source": [
    "criterion = nn.MSELoss()\n",
    "optimizer = torch.optim.Adam(model.parameters(), lr=0.001)"
   ]
  },
  {
   "cell_type": "code",
   "execution_count": 70,
   "id": "b1c5a123",
   "metadata": {},
   "outputs": [],
   "source": [
    "X_train_tensor = X_train_tensor.to(device)\n",
    "y_train_tensor = y_train_tensor.to(device)\n",
    "X_test_tensor = X_test_tensor.to(device)\n",
    "y_test_tensor = y_test_tensor.to(device)"
   ]
  },
  {
   "cell_type": "code",
   "execution_count": 71,
   "id": "c3fe997b",
   "metadata": {},
   "outputs": [
    {
     "name": "stdout",
     "output_type": "stream",
     "text": [
      "Epoch [5/100], 訓練集 Loss: 1055.7233, 測試集 Loss: 7452.3223\n",
      "Epoch [10/100], 訓練集 Loss: 929.5269, 測試集 Loss: 7183.5020\n",
      "Epoch [15/100], 訓練集 Loss: 893.1594, 測試集 Loss: 7088.8984\n",
      "Epoch [20/100], 訓練集 Loss: 858.2031, 測試集 Loss: 6984.5068\n",
      "Epoch [25/100], 訓練集 Loss: 821.6813, 測試集 Loss: 6876.9346\n",
      "Epoch [30/100], 訓練集 Loss: 787.1194, 測試集 Loss: 6771.9497\n",
      "Epoch [35/100], 訓練集 Loss: 752.7431, 測試集 Loss: 6666.5454\n",
      "Epoch [40/100], 訓練集 Loss: 718.3335, 測試集 Loss: 6558.1987\n",
      "Epoch [45/100], 訓練集 Loss: 684.1658, 測試集 Loss: 6448.6528\n",
      "Epoch [50/100], 訓練集 Loss: 650.3031, 測試集 Loss: 6338.4761\n",
      "Epoch [55/100], 訓練集 Loss: 617.0331, 測試集 Loss: 6227.2939\n",
      "Epoch [60/100], 訓練集 Loss: 584.0492, 測試集 Loss: 6115.3481\n",
      "Epoch [65/100], 訓練集 Loss: 551.8002, 測試集 Loss: 6002.8481\n",
      "Epoch [70/100], 訓練集 Loss: 520.3436, 測試集 Loss: 5890.1392\n",
      "Epoch [75/100], 訓練集 Loss: 489.7625, 測試集 Loss: 5777.1538\n",
      "Epoch [80/100], 訓練集 Loss: 459.7466, 測試集 Loss: 5664.4482\n",
      "Epoch [85/100], 訓練集 Loss: 430.8750, 測試集 Loss: 5551.9341\n",
      "Epoch [90/100], 訓練集 Loss: 403.0538, 測試集 Loss: 5440.0723\n",
      "Epoch [95/100], 訓練集 Loss: 376.3767, 測試集 Loss: 5329.3438\n",
      "Epoch [100/100], 訓練集 Loss: 350.9182, 測試集 Loss: 5219.4644\n"
     ]
    }
   ],
   "source": [
    "num_epochs = 100\n",
    "batch_size = X_train_tensor.size(1)\n",
    "\n",
    "for epoch in range(num_epochs):\n",
    "    model.train()\n",
    "    optimizer.zero_grad()\n",
    "    output = model(X_train_tensor)\n",
    "    loss = criterion(output.squeeze(), y_train_tensor)\n",
    "    loss.backward()\n",
    "    optimizer.step()\n",
    "    \n",
    "    if (epoch + 1) % 5 == 0:\n",
    "        model.eval()\n",
    "        with torch.no_grad():\n",
    "            test_output = model(X_test_tensor)\n",
    "            test_loss = criterion(test_output.squeeze(), y_test_tensor)\n",
    "        print(f'Epoch [{epoch + 1}/{num_epochs}], 訓練集 Loss: {loss.item():.4f}, 測試集 Loss: {test_loss.item():.4f}')"
   ]
  },
  {
   "cell_type": "code",
   "execution_count": 72,
   "id": "56bec0db",
   "metadata": {},
   "outputs": [],
   "source": [
    "model.eval()\n",
    "with torch.no_grad():\n",
    "    train_predict = model(X_train_tensor).cpu().numpy()\n",
    "    test_predict = model(X_test_tensor).cpu().numpy()\n",
    "\n",
    "# 反歸一化\n",
    "train_predict = scaler.inverse_transform(train_predict)\n",
    "y_train_actual = scaler.inverse_transform(y_train_tensor.cpu().numpy().reshape(-1, 1))\n",
    "test_predict = scaler.inverse_transform(test_predict)\n",
    "y_test_actual = scaler.inverse_transform(y_test_tensor.cpu().numpy().reshape(-1, 1))"
   ]
  },
  {
   "cell_type": "code",
   "execution_count": 73,
   "id": "355e0230",
   "metadata": {},
   "outputs": [
    {
     "name": "stderr",
     "output_type": "stream",
     "text": [
      "/Users/hongjiayu/miniconda3/envs/intern/lib/python3.10/site-packages/IPython/core/pylabtools.py:170: UserWarning: Glyph 20729 (\\N{CJK UNIFIED IDEOGRAPH-50F9}) missing from font(s) DejaVu Sans.\n",
      "  fig.canvas.print_figure(bytes_io, **kw)\n",
      "/Users/hongjiayu/miniconda3/envs/intern/lib/python3.10/site-packages/IPython/core/pylabtools.py:170: UserWarning: Glyph 26684 (\\N{CJK UNIFIED IDEOGRAPH-683C}) missing from font(s) DejaVu Sans.\n",
      "  fig.canvas.print_figure(bytes_io, **kw)\n",
      "/Users/hongjiayu/miniconda3/envs/intern/lib/python3.10/site-packages/IPython/core/pylabtools.py:170: UserWarning: Glyph 32929 (\\N{CJK UNIFIED IDEOGRAPH-80A1}) missing from font(s) DejaVu Sans.\n",
      "  fig.canvas.print_figure(bytes_io, **kw)\n",
      "/Users/hongjiayu/miniconda3/envs/intern/lib/python3.10/site-packages/IPython/core/pylabtools.py:170: UserWarning: Glyph 31080 (\\N{CJK UNIFIED IDEOGRAPH-7968}) missing from font(s) DejaVu Sans.\n",
      "  fig.canvas.print_figure(bytes_io, **kw)\n",
      "/Users/hongjiayu/miniconda3/envs/intern/lib/python3.10/site-packages/IPython/core/pylabtools.py:170: UserWarning: Glyph 38928 (\\N{CJK UNIFIED IDEOGRAPH-9810}) missing from font(s) DejaVu Sans.\n",
      "  fig.canvas.print_figure(bytes_io, **kw)\n",
      "/Users/hongjiayu/miniconda3/envs/intern/lib/python3.10/site-packages/IPython/core/pylabtools.py:170: UserWarning: Glyph 28204 (\\N{CJK UNIFIED IDEOGRAPH-6E2C}) missing from font(s) DejaVu Sans.\n",
      "  fig.canvas.print_figure(bytes_io, **kw)\n",
      "/Users/hongjiayu/miniconda3/envs/intern/lib/python3.10/site-packages/IPython/core/pylabtools.py:170: UserWarning: Glyph 27169 (\\N{CJK UNIFIED IDEOGRAPH-6A21}) missing from font(s) DejaVu Sans.\n",
      "  fig.canvas.print_figure(bytes_io, **kw)\n",
      "/Users/hongjiayu/miniconda3/envs/intern/lib/python3.10/site-packages/IPython/core/pylabtools.py:170: UserWarning: Glyph 22411 (\\N{CJK UNIFIED IDEOGRAPH-578B}) missing from font(s) DejaVu Sans.\n",
      "  fig.canvas.print_figure(bytes_io, **kw)\n",
      "/Users/hongjiayu/miniconda3/envs/intern/lib/python3.10/site-packages/IPython/core/pylabtools.py:170: UserWarning: Glyph 26178 (\\N{CJK UNIFIED IDEOGRAPH-6642}) missing from font(s) DejaVu Sans.\n",
      "  fig.canvas.print_figure(bytes_io, **kw)\n",
      "/Users/hongjiayu/miniconda3/envs/intern/lib/python3.10/site-packages/IPython/core/pylabtools.py:170: UserWarning: Glyph 38291 (\\N{CJK UNIFIED IDEOGRAPH-9593}) missing from font(s) DejaVu Sans.\n",
      "  fig.canvas.print_figure(bytes_io, **kw)\n",
      "/Users/hongjiayu/miniconda3/envs/intern/lib/python3.10/site-packages/IPython/core/pylabtools.py:170: UserWarning: Glyph 23526 (\\N{CJK UNIFIED IDEOGRAPH-5BE6}) missing from font(s) DejaVu Sans.\n",
      "  fig.canvas.print_figure(bytes_io, **kw)\n",
      "/Users/hongjiayu/miniconda3/envs/intern/lib/python3.10/site-packages/IPython/core/pylabtools.py:170: UserWarning: Glyph 38555 (\\N{CJK UNIFIED IDEOGRAPH-969B}) missing from font(s) DejaVu Sans.\n",
      "  fig.canvas.print_figure(bytes_io, **kw)\n"
     ]
    },
    {
     "data": {
      "image/png": "[encoded data removed]",
      "text/plain": [
       "<Figure size 1200x600 with 1 Axes>"
      ]
     },
     "metadata": {},
     "output_type": "display_data"
    }
   ],
   "source": [
    "import matplotlib.pyplot as plt\n",
    "\n",
    "# 構建完整的時間序列\n",
    "predicted = np.concatenate((train_predict, test_predict), axis=0)\n",
    "actual = scaler.inverse_transform(dataset[lookback:])\n",
    "\n",
    "plt.figure(figsize=(12,6))\n",
    "plt.plot(actual, label='實際價格')\n",
    "plt.plot(predicted, label='預測價格')\n",
    "plt.title('AAPL 股票價格預測 - Transformer 模型')\n",
    "plt.xlabel('時間')\n",
    "plt.ylabel('價格')\n",
    "plt.legend()\n",
    "plt.show()"
   ]
  },
  {
   "cell_type": "code",
   "execution_count": 74,
   "id": "bf27da57",
   "metadata": {},
   "outputs": [
    {
     "name": "stdout",
     "output_type": "stream",
     "text": [
      "訓練集 MSE: 4280705.00\n",
      "測試集 MSE: 66136536.00\n"
     ]
    }
   ],
   "source": [
    "from sklearn.metrics import mean_squared_error\n",
    "\n",
    "train_score = mean_squared_error(y_train_actual, train_predict)\n",
    "test_score = mean_squared_error(y_test_actual, test_predict)\n",
    "print(f'訓練集 MSE: {train_score:.2f}')\n",
    "print(f'測試集 MSE: {test_score:.2f}')"
   ]
  },
  {
   "cell_type": "code",
   "execution_count": null,
   "id": "29884aa2",
   "metadata": {},
   "outputs": [],
   "source": []
  }
 ],
 "metadata": {
  "kernelspec": {
   "display_name": "intern",
   "language": "python",
   "name": "python3"
  },
  "language_info": {
   "codemirror_mode": {
    "name": "ipython",
    "version": 3
   },
   "file_extension": ".py",
   "mimetype": "text/x-python",
   "name": "python",
   "nbconvert_exporter": "python",
   "pygments_lexer": "ipython3",
   "version": "3.10.18"
  }
 },
 "nbformat": 4,
 "nbformat_minor": 5
}
